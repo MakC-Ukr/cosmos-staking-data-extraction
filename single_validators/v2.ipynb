{
 "cells": [
  {
   "cell_type": "code",
   "execution_count": 11,
   "metadata": {},
   "outputs": [],
   "source": [
    "import pandas as pd\n",
    "import datetime\n",
    "import os\n",
    "import requests\n",
    "from process_all import time_to_unix\n",
    "\n",
    "DEFAULT_BLOCK_TIME = 6.12345"
   ]
  },
  {
   "cell_type": "code",
   "execution_count": 7,
   "metadata": {},
   "outputs": [],
   "source": [
    "file_name = \"./Twinstake.csv\"\n",
    "# dir_path = os.path.dirname(os.path.realpath(__file__))+'/'+file_name\n",
    "df = pd.read_csv(file_name)"
   ]
  },
  {
   "cell_type": "code",
   "execution_count": 9,
   "metadata": {},
   "outputs": [],
   "source": [
    "def get_chain_distribution_parameters():\n",
    "    response = requests.get(RPC_URL_2+'/distribution/parameters', headers=headers).json()['result']\n",
    "    result_dict = {}\n",
    "    result_dict['community_tax'] = response['community_tax']\n",
    "    result_dict['min_proposer_bonus'] = response['base_proposer_reward']\n",
    "    result_dict['max_proposer_bonus'] = response['bonus_proposer_reward']\n",
    "    return result_dict"
   ]
  },
  {
   "cell_type": "code",
   "execution_count": 10,
   "metadata": {},
   "outputs": [
    {
     "ename": "NameError",
     "evalue": "name 'requests' is not defined",
     "output_type": "error",
     "traceback": [
      "\u001b[0;31m---------------------------------------------------------------------------\u001b[0m",
      "\u001b[0;31mNameError\u001b[0m                                 Traceback (most recent call last)",
      "Cell \u001b[0;32mIn [10], line 1\u001b[0m\n\u001b[0;32m----> 1\u001b[0m get_chain_distribution_parameters()\n",
      "Cell \u001b[0;32mIn [9], line 2\u001b[0m, in \u001b[0;36mget_chain_distribution_parameters\u001b[0;34m()\u001b[0m\n\u001b[1;32m      1\u001b[0m \u001b[39mdef\u001b[39;00m \u001b[39mget_chain_distribution_parameters\u001b[39m():\n\u001b[0;32m----> 2\u001b[0m     response \u001b[39m=\u001b[39m requests\u001b[39m.\u001b[39mget(RPC_URL_2\u001b[39m+\u001b[39m\u001b[39m'\u001b[39m\u001b[39m/distribution/parameters\u001b[39m\u001b[39m'\u001b[39m, headers\u001b[39m=\u001b[39mheaders)\u001b[39m.\u001b[39mjson()[\u001b[39m'\u001b[39m\u001b[39mresult\u001b[39m\u001b[39m'\u001b[39m]\n\u001b[1;32m      3\u001b[0m     result_dict \u001b[39m=\u001b[39m {}\n\u001b[1;32m      4\u001b[0m     result_dict[\u001b[39m'\u001b[39m\u001b[39mcommunity_tax\u001b[39m\u001b[39m'\u001b[39m] \u001b[39m=\u001b[39m response[\u001b[39m'\u001b[39m\u001b[39mcommunity_tax\u001b[39m\u001b[39m'\u001b[39m]\n",
      "\u001b[0;31mNameError\u001b[0m: name 'requests' is not defined"
     ]
    }
   ],
   "source": [
    "get_chain_distribution_parameters()"
   ]
  },
  {
   "cell_type": "code",
   "execution_count": 8,
   "metadata": {},
   "outputs": [],
   "source": [
    "new_df_ls = []\n",
    "prev_timestamp = time_to_unix(df.iloc[0][\"timestamp\"])\n",
    "last_block_num = df.iloc[0][\"block_num\"]"
   ]
  },
  {
   "cell_type": "code",
   "execution_count": null,
   "metadata": {},
   "outputs": [],
   "source": [
    "for row_ind in range(len(df)-1):\n",
    "    row = df.iloc[row_ind]\n",
    "    row_next = df.iloc[row_ind+1]\n",
    "\n",
    "    if row[\"block_num\"] == row_next[\"block_num\"]-1:\n",
    "        new_df_ls.append(row)\n",
    "        continue\n",
    "    \n",
    "\n"
   ]
  },
  {
   "cell_type": "code",
   "execution_count": null,
   "metadata": {},
   "outputs": [],
   "source": [
    "for ind, row in df.iterrows():\n",
    "    if ind == 0:\n",
    "        row['block_len'] = DEFAULT_BLOCK_TIME\n",
    "    elif row['block_num'] != last_block_num+1:\n",
    "        time_diff = float(time_to_unix(row['timestamp']) - prev_timestamp)/1000.0\n",
    "        row['block_len'] = time_diff/float(row['block_num'] - last_block_num)\n",
    "    else:\n",
    "        row['block_len'] = float(time_to_unix(row['timestamp']) - prev_timestamp)/1000.0\n",
    "    new_df_ls.append(row)\n",
    "    prev_timestamp = time_to_unix(row['timestamp'])\n",
    "    last_block_num = row['block_num']\n",
    "\n",
    "new_df = pd.DataFrame(new_df_ls)\n",
    "new_df = new_df.sort_values('block_num')\n",
    "dir_path = os.path.dirname(os.path.realpath(__file__))+'/'+file_name.split('.')[0]+'_processed.csv'\n",
    "new_df.to_csv(dir_path, index=False)"
   ]
  }
 ],
 "metadata": {
  "kernelspec": {
   "display_name": "Python 3.8.9 ('venv': venv)",
   "language": "python",
   "name": "python3"
  },
  "language_info": {
   "codemirror_mode": {
    "name": "ipython",
    "version": 3
   },
   "file_extension": ".py",
   "mimetype": "text/x-python",
   "name": "python",
   "nbconvert_exporter": "python",
   "pygments_lexer": "ipython3",
   "version": "3.8.9"
  },
  "orig_nbformat": 4,
  "vscode": {
   "interpreter": {
    "hash": "dcdb26527a3a778549793be0f74bdab8911b7db9e53525a253affb4089969a06"
   }
  }
 },
 "nbformat": 4,
 "nbformat_minor": 2
}
