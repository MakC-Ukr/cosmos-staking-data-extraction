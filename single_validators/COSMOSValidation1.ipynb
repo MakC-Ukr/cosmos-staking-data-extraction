{
  "cells": [
    {
      "cell_type": "code",
      "execution_count": null,
      "metadata": {
        "colab": {
          "base_uri": "https://localhost:8080/"
        },
        "id": "JAIplEBLNz36",
        "outputId": "78b63ac8-2825-4d79-d9af-461815b45924"
      },
      "outputs": [],
      "source": [
        "import math\n",
        "import numpy as np\n",
        "import pandas as pd\n",
        "validator = \"Twinstake_processed.csv\"\n",
        "path = f\"./{validator}\"\n",
        "df_data= pd.read_csv(path)"
      ]
    },
    {
      "cell_type": "code",
      "execution_count": null,
      "metadata": {
        "id": "00U-NP3mN-m_"
      },
      "outputs": [],
      "source": [
        "df_data.reset_index(inplace=True)"
      ]
    },
    {
      "cell_type": "code",
      "execution_count": null,
      "metadata": {
        "colab": {
          "base_uri": "https://localhost:8080/"
        },
        "id": "_2GL4HkpN-1P",
        "outputId": "099e2a58-c75a-4032-d303-19aa296b6fa5"
      },
      "outputs": [],
      "source": [
        "print(df_data)"
      ]
    },
    {
      "cell_type": "code",
      "execution_count": null,
      "metadata": {
        "colab": {
          "base_uri": "https://localhost:8080/"
        },
        "id": "IPVLWb6_VB-G",
        "outputId": "62d8d63a-a9bc-48fb-f1e8-981de57a280d"
      },
      "outputs": [],
      "source": [
        "df_output = pd.DataFrame()\n",
        "df_output['block Number'] = df_data.block_num\n",
        "df_output['Atom Staked'] = df_data.atom_staked_v\n",
        "df_output['Total_Rewards'] = ( df_data.commission_amt/(df_data.v_commission/100)) * 1E-6\n",
        "df_output['Epoch Rewards'] = df_output.apply(lambda _: '', axis=1)\n",
        "df_output['Expected Rewards'] = df_output.apply(lambda _: '', axis=1)\n",
        "df_output['Realized APY'] = df_output.apply(lambda _: '', axis=1)\n",
        "df_output['Expected APY'] = df_output.apply(lambda _: '', axis=1)\n",
        "df_output['Absolute Difference in Rewards'] = df_output.apply(lambda _: '', axis=1)\n",
        "df_output['Absolute Difference in APY'] = df_output.apply(lambda _: '', axis=1)\n",
        "df_output['% Difference in Rewards'] = df_output.apply(lambda _: '', axis=1)\n",
        "\n",
        "print(df_output.head())"
      ]
    },
    {
      "cell_type": "code",
      "execution_count": null,
      "metadata": {
        "colab": {
          "base_uri": "https://localhost:8080/"
        },
        "id": "reb54NMqN7Nf",
        "outputId": "6e65ecd7-2464-4aac-d952-47d222b571c7"
      },
      "outputs": [],
      "source": [
        "# Constants from Network\n",
        "\n",
        "\n",
        "# Parameters to be varied by validator\n",
        "for i in range(1,len(df_data)):\n",
        "\n",
        "  Goal_Bonded                 = float(df_data.Goal_Bonded[i]) \n",
        "  Inflation_Rate_Change       = float(df_data.Inflation_Rate_Change[i]) \n",
        "  Min_Inflation_Rate          = float(df_data.Min_Inflation_Rate[i]) \n",
        "  Max_Inflation_Rate          = float(df_data.Max_Inflation_Rate[i]) \n",
        "  Block_length                = float(df_data.block_len[i]) \n",
        "  E_Block_length              = float(df_data.Block_length_target[i])\n",
        "  Blocks_per_year             = float(df_data.Blocks_per_year[i]) \n",
        "  minProposerBonus            = float(df_data.min_proposer_bonus[i]) \n",
        "  maxProposerBonus            = float(df_data.max_proposer_bonus[i]) \n",
        "  Community_Tax               = float(df_data.community_tax[i]) \n",
        "    \n",
        "  Min_Signatures              = float(df_data.Min_Signatures[i]) \n",
        "  Total_Fees_Per_Block        = float(df_data.total_block_fees[i]) * 1E-6\n",
        "  Bonded_Ratio                = float(df_data.percent_staked[i]) /100\n",
        "  stake                       = float(df_data.atom_staked_v[i]) \n",
        "  signatures_ratio            = float(df_data.sign_ratio[i]) \n",
        "  E_Inflation_Rate_BH         = float(df_data.inflation_rate[i]) \n",
        "  totalSupply                 = float(df_data.total_supply[i]) * 1E-6\n",
        "\n",
        "  # E_current_Inflation_rate_change = (1 - Bonded_Ratio/Goal_Bonded) * Inflation_Rate_Change\n",
        "  # E_Inflation_Rate_BH             = Prev_Inflation_Rate + E_current_Inflation_rate_change / Blocks_per_year\n",
        "\n",
        "    # Check the new inflation rate is between min and max inflation rate\n",
        "  if E_Inflation_Rate_BH > Max_Inflation_Rate:\n",
        "    E_Inflation_Rate_BH = Max_Inflation_Rate\n",
        "  elif E_Inflation_Rate_BH < Min_Inflation_Rate:\n",
        "    E_Inflation_Rate_BH = Min_Inflation_Rate\n",
        "\n",
        "  # Real_Inflation_Rate = E_Inflation_Rate_BH * Block_length/ E_Block_length\n",
        "\n",
        "  E_validator         = stake / (totalSupply*Bonded_Ratio) * ((1+E_Inflation_Rate_BH)**(1/Blocks_per_year)-1) * totalSupply    # technically can cancel totalSupply but left for ease of understanding\n",
        "  #E_validator         = stake / (totalSupply*Bonded_Ratio) * E_Inflation_Rate_BH/Blocks_per_year * totalSupply\n",
        "  E_Proposer_Bonus                     = minProposerBonus + (signatures_ratio-Min_Signatures) / (1-Min_Signatures) * (maxProposerBonus-minProposerBonus)      \n",
        "  E_Proposer_stake                     = totalSupply*Bonded_Ratio/175   # THIS IS POOR ESTIMATE AS VALIDATORS WITH MORE STAKE ARE SELECTED MORE FREQUENTLY, WOULD NEED ALL VALIDATOR'S DATA TO IMPROVE MODEL\n",
        "  E_transaction_reward_per_atom_staked = Total_Fees_Per_Block * (1 - Community_Tax) / (totalSupply*Bonded_Ratio + E_Proposer_stake*E_Proposer_Bonus)\n",
        "\n",
        "  E_ProposerTxFees                     = stake * (1 + E_Proposer_Bonus) * E_transaction_reward_per_atom_staked\n",
        "  E_AttesterTxFees                     = stake * E_transaction_reward_per_atom_staked\n",
        "\n",
        "  E_Attester = E_validator + E_AttesterTxFees\n",
        "  E_Proposer = E_validator + E_ProposerTxFees\n",
        "\n",
        "  P_Proposer = stake/totalSupply    # think this is true even with round robin selection\n",
        "  P_attester = 1 - P_Proposer\n",
        "\n",
        "\n",
        "  E_rewards = E_Proposer*P_Proposer + E_Attester*P_attester\n",
        "  df_output['Epoch Rewards'][i]       = df_output.Total_Rewards[i]-df_output.Total_Rewards[i-1]\n",
        "  df_output['Expected Rewards'][i] = E_rewards\n",
        "  df_output['Absolute Difference in Rewards'][i] = df_output['Expected Rewards'][i] - df_output['Epoch Rewards'][i]\n",
        "  df_output['% Difference in Rewards'][i] = (df_output['Expected Rewards'][i] - df_output['Epoch Rewards'][i]) / df_output['Epoch Rewards'][i]*100\n",
        "\n",
        "  APY                                            = E_rewards/stake*Blocks_per_year*E_Block_length/Block_length\n",
        "  Realized_APY                                   = df_output['Epoch Rewards'][i]/stake*Blocks_per_year*E_Block_length/Block_length\n",
        "  df_output['Expected APY'][i]                   = APY*100\n",
        "  df_output['Realized APY'][i]                   = Realized_APY*100     \n",
        "  df_output['Absolute Difference in Rewards'][i] = E_rewards - df_output['Epoch Rewards'][i]\n",
        "  df_output['Absolute Difference in APY'][i]     = (df_output['Expected APY'][i]  -   df_output['Realized APY'][i])\n",
        "\n",
        "print(df_output)"
      ]
    },
    {
      "cell_type": "code",
      "execution_count": null,
      "metadata": {
        "id": "RhQfvy6509Ml"
      },
      "outputs": [],
      "source": [
        "# df_output.to_csv(f\"drive/Shared drives/Model/Data Extraction/COSMOS/single-validators/Output Files/COSMOSValidationOutput-{validator}\")"
      ]
    },
    {
      "cell_type": "code",
      "execution_count": null,
      "metadata": {
        "id": "lRxGgDQjVdr-"
      },
      "outputs": [],
      "source": [
        "total_rewards = df_output['Epoch Rewards'][1:].sum()\n",
        "expected_total = df_output['Expected Rewards'][1:].sum()"
      ]
    },
    {
      "cell_type": "code",
      "execution_count": null,
      "metadata": {},
      "outputs": [],
      "source": [
        "(total_rewards-expected_total)/total_rewards*100"
      ]
    }
  ],
  "metadata": {
    "colab": {
      "collapsed_sections": [],
      "provenance": []
    },
    "kernelspec": {
      "display_name": "Python 3.8.9 ('venv': venv)",
      "language": "python",
      "name": "python3"
    },
    "language_info": {
      "codemirror_mode": {
        "name": "ipython",
        "version": 3
      },
      "file_extension": ".py",
      "mimetype": "text/x-python",
      "name": "python",
      "nbconvert_exporter": "python",
      "pygments_lexer": "ipython3",
      "version": "3.8.9"
    },
    "vscode": {
      "interpreter": {
        "hash": "dcdb26527a3a778549793be0f74bdab8911b7db9e53525a253affb4089969a06"
      }
    }
  },
  "nbformat": 4,
  "nbformat_minor": 0
}
